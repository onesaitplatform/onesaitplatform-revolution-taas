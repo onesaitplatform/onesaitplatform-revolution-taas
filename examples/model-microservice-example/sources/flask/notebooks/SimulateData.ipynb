{
 "cells": [
  {
   "cell_type": "code",
   "execution_count": null,
   "metadata": {},
   "outputs": [],
   "source": [
    "import sys\n",
    "import os\n",
    "import pandas as pd\n",
    "from onesaitplatform.iotbroker import IotBrokerClient"
   ]
  },
  {
   "cell_type": "code",
   "execution_count": null,
   "metadata": {},
   "outputs": [],
   "source": [
    "project_folder = \"path/to/folder\"\n",
    "simulator_project_folder = os.path.join(project_folder, \"model-microservice-example\\simulation\")\n",
    "if simulator_project_folder not in sys.path:\n",
    "    sys.path.insert(0, simulator_project_folder)"
   ]
  },
  {
   "cell_type": "code",
   "execution_count": null,
   "metadata": {},
   "outputs": [],
   "source": [
    "from datasimulator import Simulator"
   ]
  },
  {
   "cell_type": "code",
   "execution_count": null,
   "metadata": {},
   "outputs": [],
   "source": [
    "simulated_data = Simulator.simulate(10000)\n",
    "simulated_data[0]\n",
    "lluvia = 0\n",
    "for i in simulated_data:\n",
    "    if i[\"pp\"] > 0:\n",
    "        lluvia += 1\n",
    "        \n",
    "lluvia"
   ]
  },
  {
   "cell_type": "code",
   "execution_count": null,
   "metadata": {},
   "outputs": [],
   "source": [
    "client = IotBrokerClient(host=\"industryonesait.cwbyminsait.com\",\n",
    "                        iot_client=\"predictionclient\", \n",
    "                         iot_client_token=\"1b5e4bf62cb94812a838e215b20cdcdd\")\n",
    "client.protocol = \"https\"\n",
    "client.avoid_ssl_certificate = True\n",
    "print(client)"
   ]
  },
  {
   "cell_type": "code",
   "execution_count": null,
   "metadata": {},
   "outputs": [],
   "source": [
    "client.join()"
   ]
  },
  {
   "cell_type": "code",
   "execution_count": null,
   "metadata": {},
   "outputs": [],
   "source": [
    "ontology = \"predictionmodel\"\n",
    "data = [{\"predictionmodel\": d} for d in simulated_data]\n",
    "client.insert(ontology, data)"
   ]
  },
  {
   "cell_type": "code",
   "execution_count": null,
   "metadata": {},
   "outputs": [],
   "source": [
    "ok_query, res_query = client.query(\"predictionmodel\", \"db.predictionmodel.find()\", \"NATIVE\")\n",
    "data_formated = [d['predictionmodel'] for d in res_query]\n",
    "data_formated[0]"
   ]
  },
  {
   "cell_type": "code",
   "execution_count": null,
   "metadata": {},
   "outputs": [],
   "source": [
    "df = pd.DataFrame(data_formated)"
   ]
  },
  {
   "cell_type": "code",
   "execution_count": null,
   "metadata": {},
   "outputs": [],
   "source": [
    "df.head()"
   ]
  }
 ],
 "metadata": {
  "kernelspec": {
   "display_name": "Python 3",
   "language": "python",
   "name": "python3"
  },
  "language_info": {
   "codemirror_mode": {
    "name": "ipython",
    "version": 3
   },
   "file_extension": ".py",
   "mimetype": "text/x-python",
   "name": "python",
   "nbconvert_exporter": "python",
   "pygments_lexer": "ipython3",
   "version": "3.7.1"
  }
 },
 "nbformat": 4,
 "nbformat_minor": 2
}
