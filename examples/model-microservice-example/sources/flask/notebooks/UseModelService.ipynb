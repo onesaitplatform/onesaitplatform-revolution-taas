{
 "cells": [
  {
   "cell_type": "markdown",
   "metadata": {},
   "source": [
    "# Use Model Service"
   ]
  },
  {
   "cell_type": "code",
   "execution_count": 1,
   "metadata": {},
   "outputs": [],
   "source": [
    "import os\n",
    "import sys\n",
    "import time"
   ]
  },
  {
   "cell_type": "code",
   "execution_count": 2,
   "metadata": {},
   "outputs": [],
   "source": [
    "PROJECT_FOLDER = \"D:\\EBUSTOS\\DEVELOP\\INDRA\\model-microservice-example\" #\"path/to/folder\"\n",
    "simulator_project_folder = os.path.join(PROJECT_FOLDER, \"simulation\")\n",
    "model_project_folder = os.path.join(PROJECT_FOLDER, \"precipitationmodel\")"
   ]
  },
  {
   "cell_type": "code",
   "execution_count": 3,
   "metadata": {},
   "outputs": [],
   "source": [
    "if PROJECT_FOLDER not in sys.path:\n",
    "    sys.path.insert(0, PROJECT_FOLDER)"
   ]
  },
  {
   "cell_type": "code",
   "execution_count": 4,
   "metadata": {},
   "outputs": [],
   "source": [
    "from simulation import Simulator\n",
    "from model import ModelService\n",
    "from config import ModelConfig"
   ]
  },
  {
   "cell_type": "markdown",
   "metadata": {},
   "source": [
    "### Print model info"
   ]
  },
  {
   "cell_type": "code",
   "execution_count": 5,
   "metadata": {},
   "outputs": [
    {
     "name": "stdout",
     "output_type": "stream",
     "text": [
      "None\n"
     ]
    }
   ],
   "source": [
    "from config import ModelConfig\n",
    "print(ModelConfig.SUPERVISOR_ENDPOINT)"
   ]
  },
  {
   "cell_type": "code",
   "execution_count": 6,
   "metadata": {
    "scrolled": false
   },
   "outputs": [
    {
     "name": "stdout",
     "output_type": "stream",
     "text": [
      "Not starting scheduler for use not supervisor\n",
      "implemented load model\n",
      "default loading preprocessor\n",
      "loading serialized file D:\\EBUSTOS\\DEVELOP\\INDRA\\model-microservice-example\\data\\precipitation_preprocessor.pkl with serializer FileSerializers.PICKLE\n",
      "Info - IotBrokerClient will be soon deprecated, please use DigitalClient instead\n",
      "Setted digital client: Client.IotBrokerClient(host=industryonesait.cwbyminsait.com, port=443, _Client__protocol=https, _Client__avoid_ssl_certificate=True, is_connected=False, iot_client=<iot_client>, iot_clientId=<iot_client>:PythonClient, iot_client_token=None, session_key=None)\n"
     ]
    }
   ],
   "source": [
    "model = ModelService()"
   ]
  },
  {
   "cell_type": "code",
   "execution_count": null,
   "metadata": {},
   "outputs": [],
   "source": [
    "print(model.status)"
   ]
  },
  {
   "cell_type": "code",
   "execution_count": null,
   "metadata": {},
   "outputs": [],
   "source": [
    "model.training_score = 3"
   ]
  },
  {
   "cell_type": "code",
   "execution_count": null,
   "metadata": {
    "scrolled": true
   },
   "outputs": [],
   "source": [
    "model.update_status()"
   ]
  },
  {
   "cell_type": "code",
   "execution_count": null,
   "metadata": {},
   "outputs": [],
   "source": [
    "model.notify_status()"
   ]
  },
  {
   "cell_type": "code",
   "execution_count": null,
   "metadata": {},
   "outputs": [],
   "source": [
    "model.get_task_from_supervisor()"
   ]
  },
  {
   "cell_type": "code",
   "execution_count": null,
   "metadata": {},
   "outputs": [],
   "source": [
    "print(\"Model name: {}\".format(model.name))\n",
    "print(\"Model info: {}\".format(model.info()))\n",
    "print(\"Model sample: {}\".format(model.sample()))\n",
    "print(\"Model labels: {}\".format(model.labels))\n",
    "print(\"Model status: {}\".format(model.status))"
   ]
  },
  {
   "cell_type": "markdown",
   "metadata": {},
   "source": [
    "### Prediction with model"
   ]
  },
  {
   "cell_type": "code",
   "execution_count": null,
   "metadata": {},
   "outputs": [],
   "source": [
    "nolluvia = {'tmp0': 27.12, 'tmp1': 10.36, 'hPa': 987, 'hum': 0.23}\n",
    "lluvia = {'tmp0': 19.45, 'tmp1': 7.10, 'hPa': 952, 'hum': 1.00}\n",
    "data_Ready = model.transform_in(lluvia)\n",
    "data_Ready"
   ]
  },
  {
   "cell_type": "code",
   "execution_count": null,
   "metadata": {},
   "outputs": [],
   "source": [
    "res = model.predict(data_Ready)\n",
    "res"
   ]
  },
  {
   "cell_type": "code",
   "execution_count": null,
   "metadata": {},
   "outputs": [],
   "source": [
    "model.transform_out(res)"
   ]
  },
  {
   "cell_type": "markdown",
   "metadata": {},
   "source": [
    "### Training model"
   ]
  },
  {
   "cell_type": "code",
   "execution_count": null,
   "metadata": {},
   "outputs": [],
   "source": [
    "model.set_digital_client(\n",
    "    host=\"industryonesait.cwbyminsait.com\",\n",
    "    port = 443,\n",
    "    iot_client=\"predictionclient\", \n",
    "    iot_client_token=\"1b5e4bf62cb94812a838e215b20cdcdd\"\n",
    ")\n",
    "\n",
    "model.digital_client.protocol = \"https\"\n",
    "model.digital_client.avoid_ssl_certificate = True\n",
    "print(model.digital_client)"
   ]
  },
  {
   "cell_type": "code",
   "execution_count": null,
   "metadata": {},
   "outputs": [],
   "source": [
    "model.is_training = True"
   ]
  },
  {
   "cell_type": "code",
   "execution_count": null,
   "metadata": {
    "scrolled": true
   },
   "outputs": [],
   "source": [
    "model.start_train(ontology=\"predictionmodel\")"
   ]
  },
  {
   "cell_type": "code",
   "execution_count": null,
   "metadata": {},
   "outputs": [],
   "source": [
    "model.digital_client.leave()"
   ]
  },
  {
   "cell_type": "code",
   "execution_count": null,
   "metadata": {},
   "outputs": [],
   "source": [
    "model.digital_client.is_connected"
   ]
  },
  {
   "cell_type": "code",
   "execution_count": null,
   "metadata": {},
   "outputs": [],
   "source": [
    "model.digital_client.query(\"predictionmodel\", \"db.predictionmodel.find().limit(8)\", \"NATIVE\")"
   ]
  },
  {
   "cell_type": "code",
   "execution_count": null,
   "metadata": {},
   "outputs": [],
   "source": [
    "model.train(ontology=\"predictionmodel\", query=\"db.predictionmodel.find().limit(8)\")\n",
    "model.last_trained"
   ]
  },
  {
   "cell_type": "code",
   "execution_count": null,
   "metadata": {},
   "outputs": [],
   "source": [
    "from config import ModelConfig"
   ]
  },
  {
   "cell_type": "code",
   "execution_count": null,
   "metadata": {},
   "outputs": [],
   "source": [
    "ModelConfig.save_config()"
   ]
  },
  {
   "cell_type": "code",
   "execution_count": null,
   "metadata": {},
   "outputs": [],
   "source": [
    "def display_arguments(func):\n",
    "    def display_and_call(*args, **kwargs):      \n",
    "        args = list(args)\n",
    "        print('must-have arguments are:')\n",
    "        print(args[0].is_training)\n",
    "        for i in args:\n",
    "            print(i)          \n",
    "        print('optional arguments are:')\n",
    "        for kw in kwargs.keys():\n",
    "            print( kw+'='+str( kwargs[kw] ) )          \n",
    "        return func(*args, **kwargs)   \n",
    "    return display_and_call\n",
    "\n",
    "def not_while_training(func):\n",
    "    def call(*args, **kwargs):      \n",
    "        args = list(args)\n",
    "        model_service_class = args[0]\n",
    "        if isinstance(model_service_class, BaseModelService):\n",
    "            if model_service_class.is_training:\n",
    "                raise RuntimeError(\"Not possible to train service while training\")\n",
    "        else:\n",
    "            raise RuntimeWarning(\"Wrapper used in wrong class: {}\".format(model_service_class))\n",
    "         \n",
    "        return func(*args, **kwargs)   \n",
    "    return call"
   ]
  },
  {
   "cell_type": "code",
   "execution_count": null,
   "metadata": {},
   "outputs": [],
   "source": [
    "from model import BaseModelService\n",
    "class M(BaseModelService):\n",
    "    def __init__(self):\n",
    "        self.is_training = False\n",
    "        \n",
    "    @not_while_training\n",
    "    def train(self):\n",
    "        print(\"Training...\")\n",
    "        return True\n"
   ]
  },
  {
   "cell_type": "code",
   "execution_count": null,
   "metadata": {},
   "outputs": [],
   "source": [
    "m = M()\n",
    "\n"
   ]
  },
  {
   "cell_type": "code",
   "execution_count": null,
   "metadata": {},
   "outputs": [],
   "source": [
    "m.train()"
   ]
  },
  {
   "cell_type": "code",
   "execution_count": null,
   "metadata": {},
   "outputs": [],
   "source": [
    "m.is_training = True"
   ]
  },
  {
   "cell_type": "code",
   "execution_count": null,
   "metadata": {},
   "outputs": [],
   "source": []
  }
 ],
 "metadata": {
  "kernelspec": {
   "display_name": "Python 3",
   "language": "python",
   "name": "python3"
  },
  "language_info": {
   "codemirror_mode": {
    "name": "ipython",
    "version": 3
   },
   "file_extension": ".py",
   "mimetype": "text/x-python",
   "name": "python",
   "nbconvert_exporter": "python",
   "pygments_lexer": "ipython3",
   "version": "3.7.3"
  }
 },
 "nbformat": 4,
 "nbformat_minor": 2
}
